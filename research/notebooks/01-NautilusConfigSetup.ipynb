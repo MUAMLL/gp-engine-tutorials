{
 "cells": [
  {
   "cell_type": "markdown",
   "id": "0d142738-4eac-4565-9953-cea23973831f",
   "metadata": {},
   "source": [
    "# Nautilus Config Setup\n",
    "\n",
    "This notebook will help ensure you have successfully setup your Nautilus config\n"
   ]
  },
  {
   "cell_type": "markdown",
   "id": "5f071755-d764-46f9-9013-f75ab64760df",
   "metadata": {},
   "source": [
    "## Step 1: Upload You Config\n",
    "\n",
    "From the Jupyter Lab interface, click on the Upload symbol, and select the config you have downloaded from the NRP portal"
   ]
  },
  {
   "cell_type": "markdown",
   "id": "c47f8e2e-1120-4733-8b02-b02cd8ffab07",
   "metadata": {},
   "source": [
    "<img src=\"./UploadJupyter.png\" />"
   ]
  },
  {
   "cell_type": "markdown",
   "id": "a198f865-8517-4802-a2cc-2439966e565b",
   "metadata": {},
   "source": [
    "\n",
    "## Step 2: Downloading the config for Nautilus\n",
    "\n",
    "First we will download the configuration file for Nautilus to allow us to sign in with campus credentials. "
   ]
  },
  {
   "cell_type": "code",
   "execution_count": null,
   "id": "7b461484-7a17-4ccb-a413-6a73102ef3f2",
   "metadata": {},
   "outputs": [],
   "source": [
    "from pathlib import Path\n",
    "import os\n",
    "\n",
    "# Download new config and make changes\n",
    "# These changes are being made for this environment. \n",
    "# For full instructions: https://nrp.ai/documentation/userdocs/start/getting-started/\n",
    "os.system(\"wget https://nrp.ai/config -O ~/config\")\n",
    "os.system(\"\"\"echo \"\\n      - --grant-type=device-code\\n      - --skip-open-browser\" >> ~/config \"\"\")\n",
    "os.system(\"sed -i 's/keyring/disk/g' ~/config\")\n",
    "\n",
    "cfg_path = Path.home().resolve() / \"config\"\n",
    "\n",
    "if cfg_path.is_file():\n",
    "    print(f\"Found config: {cfg_path}\")\n",
    "else: \n",
    "    cfg_dir = input(\"Enter directory with config: \")\n",
    "    cfg_path = Path(cfg_dir).resolve() / \"config\"\n",
    "    if cfg_path.is_file():\n",
    "        print(f\"Found config: {cfg_path}\")\n",
    "    else:\n",
    "        print(\"ERROR: Re-run this cell and give correct directory\")"
   ]
  },
  {
   "cell_type": "markdown",
   "id": "2ab9c626-3546-4570-bd21-558cba589feb",
   "metadata": {},
   "source": [
    "## Step 3: Copying the Config\n",
    "\n",
    "Ensure the output of the previous cell is **Found Config: /path/to/config** before proceeding"
   ]
  },
  {
   "cell_type": "code",
   "execution_count": null,
   "id": "be0e7c42-55c8-4c4f-8a41-9343013ab1e3",
   "metadata": {},
   "outputs": [],
   "source": [
    "from shutil import copy\n",
    "from pathlib import Path\n",
    "\n",
    "dest_dir = Path.home().resolve() / \".kube\"\n",
    "dest_dir.mkdir(exist_ok=True)\n",
    "dest_path = dest_dir / \"config\"\n",
    "\n",
    "\n",
    "if dest_path.is_file():\n",
    "    print(\"SUCCESS: Config correctly configured\")\n",
    "elif cfg_path.is_file() and dest_dir.is_dir():\n",
    "    copy(cfg_path, dest_path)\n",
    "    print(\"SUCCESS: Copied config\")\n",
    "else:\n",
    "    print(\"ERROR: Ensure you have correct config path\")\n",
    "\n"
   ]
  },
  {
   "cell_type": "markdown",
   "id": "6be2abbe-b382-459a-a4c5-578bd0548573",
   "metadata": {},
   "source": [
    "## Step 4: Log into Nautilus and KubeCTL\n",
    "\n",
    "Do not proceed until the output of Step 3 is **SUCCESS**\n"
   ]
  },
  {
   "cell_type": "code",
   "execution_count": null,
   "id": "a74eb48c-5b8e-4399-a1ef-74f2cf176560",
   "metadata": {},
   "outputs": [],
   "source": [
    "# Generic command to initiate the login process\n",
    "!kubectl get pods"
   ]
  },
  {
   "cell_type": "markdown",
   "id": "3cd686bf-943b-4903-ae35-d493c25fe871",
   "metadata": {},
   "source": [
    "## Step 5: Configure and Test KubeCTL\n",
    "\n",
    "Do not proceed until the output of Step 4 is **SUCCESS**\n",
    "\n",
    "**Replace `NAMESPACE` with the name of the namespace you are a member of.**\n",
    "If this is during a training event, the namespace name will be provided."
   ]
  },
  {
   "cell_type": "code",
   "execution_count": null,
   "id": "dea57995-0b35-491a-96fa-724cab183daa",
   "metadata": {},
   "outputs": [],
   "source": [
    "# Generic command to initiate the login process\n",
    "!kubectl get pods\n",
    "\n",
    "# Set and verify our namespace\n",
    "!kubectl config set contexts.nautilus.namespace gp-engine-tutorial-jobs\n",
    "!kubectl config view --minify -o jsonpath='{..namespace}'"
   ]
  },
  {
   "cell_type": "markdown",
   "id": "18e64aa2-de78-477b-a6d1-f295599af9ae",
   "metadata": {},
   "source": [
    "If you have completed all the steps above successfully, you should see the name of your namespace, likely something like starting with `gp-engine-`"
   ]
  }
 ],
 "metadata": {
  "kernelspec": {
   "display_name": "Python 3 (ipykernel)",
   "language": "python",
   "name": "python3"
  },
  "language_info": {
   "codemirror_mode": {
    "name": "ipython",
    "version": 3
   },
   "file_extension": ".py",
   "mimetype": "text/x-python",
   "name": "python",
   "nbconvert_exporter": "python",
   "pygments_lexer": "ipython3",
   "version": "3.11.5"
  }
 },
 "nbformat": 4,
 "nbformat_minor": 5
}
